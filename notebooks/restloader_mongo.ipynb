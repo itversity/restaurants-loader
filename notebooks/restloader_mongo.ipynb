{
 "cells": [
  {
   "cell_type": "code",
   "execution_count": 1,
   "metadata": {},
   "outputs": [
    {
     "name": "stdout",
     "output_type": "stream",
     "text": [
      "..................................................................................................................................................................................................................................................................................."
     ]
    },
    {
     "name": "stderr",
     "output_type": "stream",
     "text": [
      "/home/itversity/.local/lib/python3.8/site-packages/IPython/core/magic.py:187: DtypeWarning: Columns (1) have mixed types.Specify dtype option on import or set low_memory=False.\n",
      "  call = lambda f, *a, **k: f(*a, **k)\n"
     ]
    },
    {
     "name": "stdout",
     "output_type": "stream",
     "text": [
      "..........................................................................................................................................................................................................................................................................................."
     ]
    },
    {
     "name": "stderr",
     "output_type": "stream",
     "text": [
      "/home/itversity/.local/lib/python3.8/site-packages/IPython/core/magic.py:187: DtypeWarning: Columns (7) have mixed types.Specify dtype option on import or set low_memory=False.\n",
      "  call = lambda f, *a, **k: f(*a, **k)\n"
     ]
    },
    {
     "name": "stdout",
     "output_type": "stream",
     "text": [
      ".......................CPU times: user 7min 30s, sys: 18.4 s, total: 7min 49s\n",
      "Wall time: 8min 57s\n"
     ]
    }
   ],
   "source": [
    "%%time\n",
    "\n",
    "import pandas as pd\n",
    "from pymongo import MongoClient\n",
    "import json\n",
    "\n",
    "dbuser = 'rest_user'\n",
    "dbpass = 'itversity'\n",
    "dbhost = 'restmongo'\n",
    "dbport = 27017\n",
    "\n",
    "client = MongoClient(f'mongodb://{dbuser}:{dbpass}@{dbhost}:{dbport}')\n",
    "\n",
    "db = client['restdb']\n",
    "\n",
    "coll = db['restaurant_ratings']\n",
    "\n",
    "rest_chunks = pd.read_csv('/data/train_full.csv', chunksize=10000)\n",
    "\n",
    "for rest_df in rest_chunks:\n",
    "    print('.', end='')\n",
    "    rest_recs = json.loads(\n",
    "        rest_df. \\\n",
    "            reset_index(). \\\n",
    "            rename(columns={'index':'rating_id'}). \\\n",
    "            to_json(orient='records')\n",
    "    )\n",
    "    coll.insert_many(rest_recs)"
   ]
  },
  {
   "cell_type": "code",
   "execution_count": 3,
   "metadata": {},
   "outputs": [
    {
     "name": "stdout",
     "output_type": "stream",
     "text": [
      "CPU times: user 13.2 ms, sys: 5.24 ms, total: 18.4 ms\n",
      "Wall time: 22.3 s\n"
     ]
    },
    {
     "data": {
      "text/plain": [
       "'rating_id_1'"
      ]
     },
     "execution_count": 3,
     "metadata": {},
     "output_type": "execute_result"
    }
   ],
   "source": [
    "%%time\n",
    "coll.create_index('rating_id')"
   ]
  },
  {
   "cell_type": "markdown",
   "metadata": {},
   "source": [
    "* Validating read performance"
   ]
  },
  {
   "cell_type": "code",
   "execution_count": 11,
   "metadata": {},
   "outputs": [
    {
     "name": "stdout",
     "output_type": "stream",
     "text": [
      "CPU times: user 3.17 s, sys: 605 ms, total: 3.77 s\n",
      "Wall time: 8.06 s\n"
     ]
    }
   ],
   "source": [
    "%%time\n",
    "import random\n",
    "for i in range(10000):\n",
    "    rating_id = random.randint(1, 5000000)\n",
    "    rec = coll.find_one({'rating_id': rating_id})"
   ]
  },
  {
   "cell_type": "markdown",
   "metadata": {},
   "source": [
    "* Validating update performance"
   ]
  },
  {
   "cell_type": "code",
   "execution_count": 12,
   "metadata": {},
   "outputs": [
    {
     "name": "stdout",
     "output_type": "stream",
     "text": [
      "CPU times: user 6.62 s, sys: 1.38 s, total: 8 s\n",
      "Wall time: 15.8 s\n"
     ]
    }
   ],
   "source": [
    "%%time\n",
    "import random\n",
    "for i in range(10000):\n",
    "    rating_id = random.randint(1, 5000000)\n",
    "    rec = coll.find_one({'rating_id': rating_id})\n",
    "    coll.update_one({'rating_id': rating_id}, {'$set': {'customer_id': rec['customer_id']}})"
   ]
  },
  {
   "cell_type": "markdown",
   "metadata": {},
   "source": [
    "* Validating delete performance"
   ]
  },
  {
   "cell_type": "code",
   "execution_count": 13,
   "metadata": {},
   "outputs": [
    {
     "name": "stdout",
     "output_type": "stream",
     "text": [
      "CPU times: user 2.17 s, sys: 494 ms, total: 2.67 s\n",
      "Wall time: 8.58 s\n"
     ]
    }
   ],
   "source": [
    "%%time\n",
    "import random\n",
    "for i in range(10000):\n",
    "    rating_id = random.randint(1, 5000000)\n",
    "    coll.delete_one({'rating_id': rating_id})"
   ]
  },
  {
   "cell_type": "code",
   "execution_count": null,
   "metadata": {},
   "outputs": [],
   "source": []
  }
 ],
 "metadata": {
  "kernelspec": {
   "display_name": "Python 3 (ipykernel)",
   "language": "python",
   "name": "python3"
  },
  "language_info": {
   "codemirror_mode": {
    "name": "ipython",
    "version": 3
   },
   "file_extension": ".py",
   "mimetype": "text/x-python",
   "name": "python",
   "nbconvert_exporter": "python",
   "pygments_lexer": "ipython3",
   "version": "3.8.12"
  }
 },
 "nbformat": 4,
 "nbformat_minor": 4
}
